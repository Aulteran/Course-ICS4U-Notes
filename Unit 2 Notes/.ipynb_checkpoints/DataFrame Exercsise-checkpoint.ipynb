{
 "cells": [
  {
   "cell_type": "code",
   "execution_count": 2,
   "id": "07827f0a-36be-4468-8752-6e3835184718",
   "metadata": {},
   "outputs": [],
   "source": [
    "import pandas as pd"
   ]
  },
  {
   "cell_type": "code",
   "execution_count": 3,
   "id": "4239ebad-cf81-45ba-beeb-0a2d5218687b",
   "metadata": {},
   "outputs": [
    {
     "data": {
      "text/html": [
       "<div>\n",
       "<style scoped>\n",
       "    .dataframe tbody tr th:only-of-type {\n",
       "        vertical-align: middle;\n",
       "    }\n",
       "\n",
       "    .dataframe tbody tr th {\n",
       "        vertical-align: top;\n",
       "    }\n",
       "\n",
       "    .dataframe thead th {\n",
       "        text-align: right;\n",
       "    }\n",
       "</style>\n",
       "<table border=\"1\" class=\"dataframe\">\n",
       "  <thead>\n",
       "    <tr style=\"text-align: right;\">\n",
       "      <th></th>\n",
       "      <th>Age</th>\n",
       "      <th>Shoe Size</th>\n",
       "      <th>Eye Colour</th>\n",
       "      <th>Height (cm)</th>\n",
       "    </tr>\n",
       "  </thead>\n",
       "  <tbody>\n",
       "    <tr>\n",
       "      <th>Josh</th>\n",
       "      <td>15</td>\n",
       "      <td>9</td>\n",
       "      <td>Blue</td>\n",
       "      <td>182</td>\n",
       "    </tr>\n",
       "    <tr>\n",
       "      <th>Tim</th>\n",
       "      <td>19</td>\n",
       "      <td>11</td>\n",
       "      <td>Brown</td>\n",
       "      <td>167</td>\n",
       "    </tr>\n",
       "    <tr>\n",
       "      <th>Sarah</th>\n",
       "      <td>35</td>\n",
       "      <td>7</td>\n",
       "      <td>Blue</td>\n",
       "      <td>130</td>\n",
       "    </tr>\n",
       "    <tr>\n",
       "      <th>Cindy</th>\n",
       "      <td>11</td>\n",
       "      <td>5</td>\n",
       "      <td>Green</td>\n",
       "      <td>156</td>\n",
       "    </tr>\n",
       "  </tbody>\n",
       "</table>\n",
       "</div>"
      ],
      "text/plain": [
       "       Age  Shoe Size Eye Colour  Height (cm)\n",
       "Josh    15          9       Blue          182\n",
       "Tim     19         11      Brown          167\n",
       "Sarah   35          7       Blue          130\n",
       "Cindy   11          5      Green          156"
      ]
     },
     "execution_count": 3,
     "metadata": {},
     "output_type": "execute_result"
    }
   ],
   "source": [
    "people = pd.DataFrame({\n",
    "    'Age' : [15,19,35,11],\n",
    "    'Shoe Size' : [9,11,7,5],\n",
    "    'Eye Colour' : ['Blue','Brown','Blue','Green'],\n",
    "    'Height (cm)' : [182,167,130,156]},\n",
    "                      index = ['Josh','Tim','Sarah','Cindy'])\n",
    "people"
   ]
  },
  {
   "cell_type": "code",
   "execution_count": 14,
   "id": "28c791ab-cb6d-4b59-bec1-b3a34390bb15",
   "metadata": {},
   "outputs": [
    {
     "data": {
      "text/plain": [
       "Josh     15\n",
       "Tim      19\n",
       "Sarah    35\n",
       "Cindy    11\n",
       "Name: Age, dtype: int64"
      ]
     },
     "execution_count": 14,
     "metadata": {},
     "output_type": "execute_result"
    }
   ],
   "source": [
    "# Total Cumulative Age\n",
    "people['Age'].sum()"
   ]
  },
  {
   "cell_type": "code",
   "execution_count": null,
   "id": "3d99bf21-192e-4baa-8e4f-a86ad5708096",
   "metadata": {},
   "outputs": [],
   "source": [
    "# Mean Age"
   ]
  },
  {
   "cell_type": "code",
   "execution_count": null,
   "id": "cb3d26dd-edff-4e99-9761-07fd8bdd5392",
   "metadata": {},
   "outputs": [],
   "source": [
    "# Average Height"
   ]
  },
  {
   "cell_type": "code",
   "execution_count": null,
   "id": "fe2bdbd7-f83f-4d5c-9fd7-b03ec991e449",
   "metadata": {},
   "outputs": [],
   "source": []
  }
 ],
 "metadata": {
  "kernelspec": {
   "display_name": "Python 3 (ipykernel)",
   "language": "python",
   "name": "python3"
  },
  "language_info": {
   "codemirror_mode": {
    "name": "ipython",
    "version": 3
   },
   "file_extension": ".py",
   "mimetype": "text/x-python",
   "name": "python",
   "nbconvert_exporter": "python",
   "pygments_lexer": "ipython3",
   "version": "3.10.8"
  }
 },
 "nbformat": 4,
 "nbformat_minor": 5
}
