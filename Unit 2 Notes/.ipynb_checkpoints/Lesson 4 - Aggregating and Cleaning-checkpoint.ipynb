{
 "cells": [
  {
   "cell_type": "code",
   "execution_count": null,
   "id": "e38dbd4f-a5df-4fc9-8cd4-6f4164bd4421",
   "metadata": {},
   "outputs": [],
   "source": [
    "nba_copy = nba.copy() "
   ]
  },
  {
   "cell_type": "code",
   "execution_count": null,
   "id": "688698c7-7ced-4a04-888a-97c434505efd",
   "metadata": {},
   "outputs": [],
   "source": [
    "# rename DS (columns)\n",
    "nba_copy = nba_copy.rename(columns = {'game_location':'location'})\n",
    "nba_copy"
   ]
  },
  {
   "cell_type": "code",
   "execution_count": null,
   "id": "1deec97c-15d9-4c75-8421-fa3ef67b7137",
   "metadata": {},
   "outputs": [],
   "source": [
    "# DROP columns from existing DF\n",
    "nba_copy = nba_copy.drop(['elo_i','elo_n','opp_elo_i','opp_elo_n'],axis = 1)\n",
    "nba_copy.info()\n",
    "\n",
    "# We don't want a DataFrame with empty cells. If we look at DS 18(notes) there are many missing values.\n",
    "# Here are some ways to remedy this."
   ]
  },
  {
   "cell_type": "code",
   "execution_count": null,
   "id": "9f9d24f3-6486-44a7-99be-bc4950fc7d99",
   "metadata": {},
   "outputs": [],
   "source": [
    "# drop the column altogether\n",
    "clean_nba = nba.dropna(axis = 1)\n",
    "clean_nba.info()"
   ]
  },
  {
   "cell_type": "code",
   "execution_count": null,
   "id": "d0c29c6d-72a8-4558-bf09-bdcfa33dc899",
   "metadata": {},
   "outputs": [],
   "source": [
    "# keep exising DS with missing entries, and fill with a default value\n",
    "nba_copy['notes'].fillna(value = 'No Notes',\n",
    "                  inplace = True) # affect the existing nba_copy DF\n",
    "nba_copy.info()"
   ]
  },
  {
   "cell_type": "code",
   "execution_count": null,
   "id": "79d8e0d6-c9b5-4a90-a7db-72ddde85e446",
   "metadata": {},
   "outputs": [],
   "source": [
    "nba_copy['date_game']"
   ]
  },
  {
   "cell_type": "code",
   "execution_count": null,
   "id": "1ec458ee-14da-4a2c-acb6-70798f5fbb21",
   "metadata": {},
   "outputs": [],
   "source": [
    "nba_copy['date_game'] = pd.to_datetime(nba['date_game'])\n",
    "nba_copy.info()"
   ]
  },
  {
   "cell_type": "code",
   "execution_count": null,
   "id": "96e452a4-0698-4a84-9d8e-8c1b4d14e6d6",
   "metadata": {},
   "outputs": [],
   "source": [
    "nba_copy['location'].unique()\n",
    "nba_copy['location'] = pd.Categorical(nba_copy['location'])"
   ]
  },
  {
   "cell_type": "code",
   "execution_count": null,
   "id": "9a51e485-c8ff-4c1b-92f9-34c542a5f747",
   "metadata": {},
   "outputs": [],
   "source": [
    "nba_copy['location'].dtype"
   ]
  }
 ],
 "metadata": {
  "kernelspec": {
   "display_name": "Python 3 (ipykernel)",
   "language": "python",
   "name": "python3"
  },
  "language_info": {
   "codemirror_mode": {
    "name": "ipython",
    "version": 3
   },
   "file_extension": ".py",
   "mimetype": "text/x-python",
   "name": "python",
   "nbconvert_exporter": "python",
   "pygments_lexer": "ipython3",
   "version": "3.10.8"
  }
 },
 "nbformat": 4,
 "nbformat_minor": 5
}
