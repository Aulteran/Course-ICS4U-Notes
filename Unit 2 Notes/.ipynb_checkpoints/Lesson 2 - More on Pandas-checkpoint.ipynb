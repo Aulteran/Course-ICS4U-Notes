{
 "cells": [
  {
   "cell_type": "markdown",
   "id": "ecd4d0d3-62ea-4248-85fd-67d56316b22d",
   "metadata": {},
   "source": [
    "<h1>Accessing Specific Value in a DataSeries Using Pandas</h1>"
   ]
  },
  {
   "cell_type": "code",
   "execution_count": 1,
   "id": "f412a471-df84-438f-aba1-80415303b06a",
   "metadata": {
    "editable": true,
    "slideshow": {
     "slide_type": ""
    },
    "tags": []
   },
   "outputs": [],
   "source": [
    "import pandas as pd"
   ]
  },
  {
   "cell_type": "markdown",
   "id": "547f4086-4c73-48d3-ad95-ce4ad73e07a0",
   "metadata": {},
   "source": [
    "<h1>Using LOC and iLOC properties with a DataSeries</h1>"
   ]
  },
  {
   "cell_type": "code",
   "execution_count": 2,
   "id": "894e674a-b51d-4d88-bc82-cdf5b08c403c",
   "metadata": {},
   "outputs": [
    {
     "data": {
      "text/plain": [
       "1       red\n",
       "2    purple\n",
       "3      blue\n",
       "5     green\n",
       "8    yellow\n",
       "dtype: object"
      ]
     },
     "execution_count": 2,
     "metadata": {},
     "output_type": "execute_result"
    }
   ],
   "source": [
    "colours = pd.Series (['red','purple','blue','green','yellow'],\n",
    "                    index = [1,2,3,5,8])\n",
    "colours"
   ]
  },
  {
   "cell_type": "code",
   "execution_count": 3,
   "id": "615dbdf8-b178-4177-b25a-407bbba75030",
   "metadata": {},
   "outputs": [
    {
     "data": {
      "text/plain": [
       "'red'"
      ]
     },
     "execution_count": 3,
     "metadata": {},
     "output_type": "execute_result"
    }
   ],
   "source": [
    "colours[1]"
   ]
  },
  {
   "cell_type": "code",
   "execution_count": 4,
   "id": "130cbdab-7412-4876-99a7-b3603c3d9ced",
   "metadata": {},
   "outputs": [
    {
     "data": {
      "text/plain": [
       "'red'"
      ]
     },
     "execution_count": 4,
     "metadata": {},
     "output_type": "execute_result"
    }
   ],
   "source": [
    "colours.loc[1]  # Refers to label index"
   ]
  },
  {
   "cell_type": "code",
   "execution_count": 5,
   "id": "b10dc9aa-1c4b-4673-a720-9db37469bde1",
   "metadata": {},
   "outputs": [
    {
     "data": {
      "text/plain": [
       "'purple'"
      ]
     },
     "execution_count": 5,
     "metadata": {},
     "output_type": "execute_result"
    }
   ],
   "source": [
    "colours.iloc[1] # Refers to positional index"
   ]
  },
  {
   "cell_type": "code",
   "execution_count": 6,
   "id": "d7be82a5-f09a-49d3-ae55-2885297656a7",
   "metadata": {
    "editable": true,
    "slideshow": {
     "slide_type": ""
    },
    "tags": []
   },
   "outputs": [
    {
     "data": {
      "text/plain": [
       "3      blue\n",
       "5     green\n",
       "8    yellow\n",
       "dtype: object"
      ]
     },
     "execution_count": 6,
     "metadata": {},
     "output_type": "execute_result"
    }
   ],
   "source": [
    "colours.loc[3:8] # NOTE: LOC is upper bound inclusive"
   ]
  },
  {
   "cell_type": "code",
   "execution_count": 7,
   "id": "8d3c3f4b-a7b1-4744-9ce8-602231ad6cc7",
   "metadata": {},
   "outputs": [
    {
     "data": {
      "text/plain": [
       "2    purple\n",
       "3      blue\n",
       "dtype: object"
      ]
     },
     "execution_count": 7,
     "metadata": {},
     "output_type": "execute_result"
    }
   ],
   "source": [
    "colours.iloc[1:3] # NOTE: iLOC is upper bound exclusive"
   ]
  },
  {
   "cell_type": "code",
   "execution_count": 8,
   "id": "708b2977-b360-4dcd-bcc2-41397e0fe5fa",
   "metadata": {
    "editable": true,
    "slideshow": {
     "slide_type": ""
    },
    "tags": []
   },
   "outputs": [
    {
     "data": {
      "text/html": [
       "<div>\n",
       "<style scoped>\n",
       "    .dataframe tbody tr th:only-of-type {\n",
       "        vertical-align: middle;\n",
       "    }\n",
       "\n",
       "    .dataframe tbody tr th {\n",
       "        vertical-align: top;\n",
       "    }\n",
       "\n",
       "    .dataframe thead th {\n",
       "        text-align: right;\n",
       "    }\n",
       "</style>\n",
       "<table border=\"1\" class=\"dataframe\">\n",
       "  <thead>\n",
       "    <tr style=\"text-align: right;\">\n",
       "      <th></th>\n",
       "      <th>revenue</th>\n",
       "      <th>employee count</th>\n",
       "    </tr>\n",
       "  </thead>\n",
       "  <tbody>\n",
       "    <tr>\n",
       "      <th>Amsterdam</th>\n",
       "      <td>4200</td>\n",
       "      <td>5.0</td>\n",
       "    </tr>\n",
       "    <tr>\n",
       "      <th>Tokyo</th>\n",
       "      <td>6500</td>\n",
       "      <td>8.0</td>\n",
       "    </tr>\n",
       "    <tr>\n",
       "      <th>Toronto</th>\n",
       "      <td>8000</td>\n",
       "      <td>NaN</td>\n",
       "    </tr>\n",
       "  </tbody>\n",
       "</table>\n",
       "</div>"
      ],
      "text/plain": [
       "           revenue  employee count\n",
       "Amsterdam     4200             5.0\n",
       "Tokyo         6500             8.0\n",
       "Toronto       8000             NaN"
      ]
     },
     "execution_count": 8,
     "metadata": {},
     "output_type": "execute_result"
    }
   ],
   "source": [
    "city_revenues = pd.Series([4200, \n",
    "                           8000, \n",
    "                           6500],\n",
    "                          index = ['Amsterdam', \n",
    "                                   'Toronto', \n",
    "                                   'Tokyo'])  # Manually assign index to each IDENTIFIER\n",
    "city_revenues\n",
    "\n",
    "# Use a dictionary as a data series -> same exact result as data series with explicitly stated indexing vs data series with dictionary\n",
    "city_employee_count = {'Amsterdam': 5,\n",
    "                      'Tokyo': 8}\n",
    "\n",
    "employee_count = pd.Series(city_employee_count)\n",
    "employee_count\n",
    "\n",
    "city_data = pd.DataFrame(\n",
    "    {'revenue': city_revenues,\n",
    "    'employee count': employee_count}  # Key of Dictionary = Column, Index of Value = Row, Value of value = Cell\n",
    ")\n",
    "city_data  # Automatically reference the same index"
   ]
  },
  {
   "cell_type": "code",
   "execution_count": 11,
   "id": "dafb82e3-3e79-4fa3-ac8a-1eba4f072678",
   "metadata": {},
   "outputs": [
    {
     "data": {
      "text/plain": [
       "revenue           8000.0\n",
       "employee count       NaN\n",
       "Name: Toronto, dtype: float64"
      ]
     },
     "execution_count": 11,
     "metadata": {},
     "output_type": "execute_result"
    }
   ],
   "source": [
    "# Use LOC with DataFrame instead of DataSeries\n",
    "city_data.loc['Toronto']"
   ]
  },
  {
   "cell_type": "code",
   "execution_count": null,
   "id": "8d43fe0c-a1d4-4dc2-9431-1de254ccfee6",
   "metadata": {},
   "outputs": [],
   "source": [
    "# Using LOC with individual DS\n",
    "city_data.loc['Amsterdam':'Tokyo', 'revenue']  # Acting on revenue DS"
   ]
  },
  {
   "cell_type": "markdown",
   "id": "07693682-cddd-48c4-b803-c603803c5ef4",
   "metadata": {
    "editable": true,
    "slideshow": {
     "slide_type": ""
    },
    "tags": []
   },
   "source": [
    "<h3>Grouping and Aggregating Data</h3>"
   ]
  },
  {
   "cell_type": "code",
   "execution_count": null,
   "id": "1375de56-a697-4316-8c1e-b3a263237e9d",
   "metadata": {},
   "outputs": [],
   "source": [
    "# At-a-glance statistical analysis\n",
    "city_data.describe()"
   ]
  },
  {
   "cell_type": "code",
   "execution_count": null,
   "id": "c0a4ff69-d3ee-4870-a050-8d1ef9664084",
   "metadata": {},
   "outputs": [],
   "source": [
    "# All math module stuff comes with Pandas\n",
    "city_revenues.sum()"
   ]
  },
  {
   "cell_type": "code",
   "execution_count": null,
   "id": "7ed523db-5623-49bb-b10c-a6ea83f3bec3",
   "metadata": {},
   "outputs": [],
   "source": [
    "city_revenues.max()"
   ]
  },
  {
   "cell_type": "code",
   "execution_count": null,
   "id": "57b4e870-ad7a-4cff-b65c-0c538cb72379",
   "metadata": {},
   "outputs": [],
   "source": [
    "city_revenues.mean()"
   ]
  },
  {
   "cell_type": "markdown",
   "id": "9e54b950-18d9-48c4-9543-d52c4e9f8b01",
   "metadata": {},
   "source": [
    "<h1>Combining Multiple DataFrames</h1>"
   ]
  },
  {
   "cell_type": "code",
   "execution_count": null,
   "id": "4bda84b2-7cba-40a1-89b2-21f0ed1ddb1d",
   "metadata": {},
   "outputs": [],
   "source": [
    "city_data # OG DataFrame"
   ]
  },
  {
   "cell_type": "code",
   "execution_count": null,
   "id": "5583ec9b-89c2-4021-9bd6-0338e48e5748",
   "metadata": {},
   "outputs": [],
   "source": [
    "further_city_data = pd.DataFrame({'revenue': [700, 3400,],\n",
    "                                 'employee count':[2,2]},\n",
    "                                index = ['New York','Barcelona'])\n",
    "further_city_data"
   ]
  },
  {
   "cell_type": "code",
   "execution_count": null,
   "id": "42795d21-3d66-4a4f-a03e-8e9a823bc4de",
   "metadata": {},
   "outputs": [],
   "source": [
    "all_city_data = pd.concat([city_data, further_city_data], sort = False)\n",
    "all_city_data"
   ]
  },
  {
   "cell_type": "code",
   "execution_count": null,
   "id": "16785a13-b95e-4a6e-8759-fbd04aee93d2",
   "metadata": {},
   "outputs": [],
   "source": [
    "# Adding items to the DataFrame - columns\n",
    "city_countries = pd.DataFrame({'country':['Holland','Japan','Canada','Spain'],\n",
    "                              'capital':['Amsterdam','Tokyo','Ottawa','Madrid']},\n",
    "                             index = ['Amsterdam','Tokyo','Toronto','Barcelona'])\n",
    "\n",
    "city_countries"
   ]
  },
  {
   "cell_type": "code",
   "execution_count": null,
   "id": "9f44e7a9-3dd7-4bbb-a376-787787cc9bab",
   "metadata": {
    "editable": true,
    "slideshow": {
     "slide_type": ""
    },
    "tags": []
   },
   "outputs": [],
   "source": [
    "cities = pd.concat([all_city_data, city_countries], axis = 1, sort = False)  # Specify axis to add as data series\n",
    "cities"
   ]
  }
 ],
 "metadata": {
  "kernelspec": {
   "display_name": "Python 3 (ipykernel)",
   "language": "python",
   "name": "python3"
  },
  "language_info": {
   "codemirror_mode": {
    "name": "ipython",
    "version": 3
   },
   "file_extension": ".py",
   "mimetype": "text/x-python",
   "name": "python",
   "nbconvert_exporter": "python",
   "pygments_lexer": "ipython3",
   "version": "3.10.8"
  }
 },
 "nbformat": 4,
 "nbformat_minor": 5
}
