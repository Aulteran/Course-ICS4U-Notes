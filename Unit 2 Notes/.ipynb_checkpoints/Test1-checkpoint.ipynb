{
 "cells": [
  {
   "cell_type": "code",
   "execution_count": 2,
   "id": "785c3a41-b307-4056-a9e0-b44ce7694d73",
   "metadata": {},
   "outputs": [
    {
     "name": "stdout",
     "output_type": "stream",
     "text": [
      "hello world\n",
      "hi\n"
     ]
    }
   ],
   "source": [
    "print(\"hello world\")\n",
    "print(\"hi\")"
   ]
  },
  {
   "cell_type": "markdown",
   "id": "4a1481c4-83b2-4b44-adad-d2165f322125",
   "metadata": {},
   "source": [
    "<h1>Title of Graph</h1>\n",
    "Hello, these are some words"
   ]
  },
  {
   "cell_type": "code",
   "execution_count": null,
   "id": "415945c9-2d4b-4190-9871-e7d8e487a11a",
   "metadata": {},
   "outputs": [],
   "source": []
  }
 ],
 "metadata": {
  "kernelspec": {
   "display_name": "Python 3 (ipykernel)",
   "language": "python",
   "name": "python3"
  },
  "language_info": {
   "codemirror_mode": {
    "name": "ipython",
    "version": 3
   },
   "file_extension": ".py",
   "mimetype": "text/x-python",
   "name": "python",
   "nbconvert_exporter": "python",
   "pygments_lexer": "ipython3",
   "version": "3.10.8"
  }
 },
 "nbformat": 4,
 "nbformat_minor": 5
}
